{
 "cells": [
  {
   "cell_type": "code",
   "execution_count": 1,
   "metadata": {},
   "outputs": [],
   "source": [
    "import numpy as np\n",
    "import pandas as pd\n",
    "import matplotlib.pyplot as plt\n",
    "from scipy.optimize import minimize\n",
    "%matplotlib inline"
   ]
  },
  {
   "cell_type": "markdown",
   "metadata": {},
   "source": [
    "### Loading data"
   ]
  },
  {
   "cell_type": "code",
   "execution_count": 2,
   "metadata": {},
   "outputs": [
    {
     "data": {
      "text/html": [
       "<div>\n",
       "<style>\n",
       "    .dataframe thead tr:only-child th {\n",
       "        text-align: right;\n",
       "    }\n",
       "\n",
       "    .dataframe thead th {\n",
       "        text-align: left;\n",
       "    }\n",
       "\n",
       "    .dataframe tbody tr th {\n",
       "        vertical-align: top;\n",
       "    }\n",
       "</style>\n",
       "<table border=\"1\" class=\"dataframe\">\n",
       "  <thead>\n",
       "    <tr style=\"text-align: right;\">\n",
       "      <th></th>\n",
       "      <th>price</th>\n",
       "      <th>month</th>\n",
       "      <th>coupon</th>\n",
       "      <th>Coupons pr year</th>\n",
       "      <th>Start_date</th>\n",
       "      <th>End_date</th>\n",
       "      <th>nr_days</th>\n",
       "      <th>nr_years</th>\n",
       "    </tr>\n",
       "  </thead>\n",
       "  <tbody>\n",
       "    <tr>\n",
       "      <th>0</th>\n",
       "      <td>1.00021</td>\n",
       "      <td>1</td>\n",
       "      <td>0.0000</td>\n",
       "      <td>1</td>\n",
       "      <td>2017-02-02</td>\n",
       "      <td>2017-02-15</td>\n",
       "      <td>13 days</td>\n",
       "      <td>0.036111</td>\n",
       "    </tr>\n",
       "    <tr>\n",
       "      <th>1</th>\n",
       "      <td>1.00626</td>\n",
       "      <td>12</td>\n",
       "      <td>0.0000</td>\n",
       "      <td>1</td>\n",
       "      <td>2017-02-03</td>\n",
       "      <td>2017-12-15</td>\n",
       "      <td>315 days</td>\n",
       "      <td>0.875000</td>\n",
       "    </tr>\n",
       "    <tr>\n",
       "      <th>2</th>\n",
       "      <td>1.01397</td>\n",
       "      <td>24</td>\n",
       "      <td>0.0000</td>\n",
       "      <td>1</td>\n",
       "      <td>2017-02-04</td>\n",
       "      <td>2018-12-14</td>\n",
       "      <td>678 days</td>\n",
       "      <td>1.883333</td>\n",
       "    </tr>\n",
       "    <tr>\n",
       "      <th>3</th>\n",
       "      <td>1.00153</td>\n",
       "      <td>3</td>\n",
       "      <td>0.0000</td>\n",
       "      <td>1</td>\n",
       "      <td>2017-02-05</td>\n",
       "      <td>2017-04-12</td>\n",
       "      <td>66 days</td>\n",
       "      <td>0.183333</td>\n",
       "    </tr>\n",
       "    <tr>\n",
       "      <th>4</th>\n",
       "      <td>1.02142</td>\n",
       "      <td>36</td>\n",
       "      <td>0.0000</td>\n",
       "      <td>1</td>\n",
       "      <td>2017-02-06</td>\n",
       "      <td>2020-04-17</td>\n",
       "      <td>1166 days</td>\n",
       "      <td>3.238889</td>\n",
       "    </tr>\n",
       "    <tr>\n",
       "      <th>5</th>\n",
       "      <td>1.01776</td>\n",
       "      <td>60</td>\n",
       "      <td>0.0000</td>\n",
       "      <td>1</td>\n",
       "      <td>2017-02-07</td>\n",
       "      <td>2022-04-08</td>\n",
       "      <td>1886 days</td>\n",
       "      <td>5.238889</td>\n",
       "    </tr>\n",
       "    <tr>\n",
       "      <th>6</th>\n",
       "      <td>1.00411</td>\n",
       "      <td>6</td>\n",
       "      <td>0.0000</td>\n",
       "      <td>1</td>\n",
       "      <td>2017-02-08</td>\n",
       "      <td>2017-07-26</td>\n",
       "      <td>168 days</td>\n",
       "      <td>0.466667</td>\n",
       "    </tr>\n",
       "    <tr>\n",
       "      <th>7</th>\n",
       "      <td>1.10358</td>\n",
       "      <td>72</td>\n",
       "      <td>0.0150</td>\n",
       "      <td>1</td>\n",
       "      <td>2017-02-09</td>\n",
       "      <td>2023-02-15</td>\n",
       "      <td>2197 days</td>\n",
       "      <td>6.102778</td>\n",
       "    </tr>\n",
       "    <tr>\n",
       "      <th>8</th>\n",
       "      <td>1.03233</td>\n",
       "      <td>96</td>\n",
       "      <td>0.0050</td>\n",
       "      <td>1</td>\n",
       "      <td>2017-02-10</td>\n",
       "      <td>2025-02-15</td>\n",
       "      <td>2927 days</td>\n",
       "      <td>8.130556</td>\n",
       "    </tr>\n",
       "    <tr>\n",
       "      <th>9</th>\n",
       "      <td>0.98297</td>\n",
       "      <td>120</td>\n",
       "      <td>0.0025</td>\n",
       "      <td>1</td>\n",
       "      <td>2017-02-11</td>\n",
       "      <td>2027-02-15</td>\n",
       "      <td>3656 days</td>\n",
       "      <td>10.155556</td>\n",
       "    </tr>\n",
       "    <tr>\n",
       "      <th>10</th>\n",
       "      <td>1.64471</td>\n",
       "      <td>180</td>\n",
       "      <td>0.0550</td>\n",
       "      <td>1</td>\n",
       "      <td>2017-02-12</td>\n",
       "      <td>2031-01-04</td>\n",
       "      <td>5074 days</td>\n",
       "      <td>14.094444</td>\n",
       "    </tr>\n",
       "    <tr>\n",
       "      <th>11</th>\n",
       "      <td>1.56051</td>\n",
       "      <td>240</td>\n",
       "      <td>0.0400</td>\n",
       "      <td>1</td>\n",
       "      <td>2017-02-13</td>\n",
       "      <td>2037-01-04</td>\n",
       "      <td>7265 days</td>\n",
       "      <td>20.180556</td>\n",
       "    </tr>\n",
       "    <tr>\n",
       "      <th>12</th>\n",
       "      <td>1.33147</td>\n",
       "      <td>360</td>\n",
       "      <td>0.0250</td>\n",
       "      <td>1</td>\n",
       "      <td>2017-02-14</td>\n",
       "      <td>2046-08-15</td>\n",
       "      <td>10774 days</td>\n",
       "      <td>29.927778</td>\n",
       "    </tr>\n",
       "  </tbody>\n",
       "</table>\n",
       "</div>"
      ],
      "text/plain": [
       "      price  month  coupon  Coupons pr year Start_date   End_date    nr_days  \\\n",
       "0   1.00021      1  0.0000                1 2017-02-02 2017-02-15    13 days   \n",
       "1   1.00626     12  0.0000                1 2017-02-03 2017-12-15   315 days   \n",
       "2   1.01397     24  0.0000                1 2017-02-04 2018-12-14   678 days   \n",
       "3   1.00153      3  0.0000                1 2017-02-05 2017-04-12    66 days   \n",
       "4   1.02142     36  0.0000                1 2017-02-06 2020-04-17  1166 days   \n",
       "5   1.01776     60  0.0000                1 2017-02-07 2022-04-08  1886 days   \n",
       "6   1.00411      6  0.0000                1 2017-02-08 2017-07-26   168 days   \n",
       "7   1.10358     72  0.0150                1 2017-02-09 2023-02-15  2197 days   \n",
       "8   1.03233     96  0.0050                1 2017-02-10 2025-02-15  2927 days   \n",
       "9   0.98297    120  0.0025                1 2017-02-11 2027-02-15  3656 days   \n",
       "10  1.64471    180  0.0550                1 2017-02-12 2031-01-04  5074 days   \n",
       "11  1.56051    240  0.0400                1 2017-02-13 2037-01-04  7265 days   \n",
       "12  1.33147    360  0.0250                1 2017-02-14 2046-08-15 10774 days   \n",
       "\n",
       "     nr_years  \n",
       "0    0.036111  \n",
       "1    0.875000  \n",
       "2    1.883333  \n",
       "3    0.183333  \n",
       "4    3.238889  \n",
       "5    5.238889  \n",
       "6    0.466667  \n",
       "7    6.102778  \n",
       "8    8.130556  \n",
       "9   10.155556  \n",
       "10  14.094444  \n",
       "11  20.180556  \n",
       "12  29.927778  "
      ]
     },
     "execution_count": 2,
     "metadata": {},
     "output_type": "execute_result"
    }
   ],
   "source": [
    "data = pd.read_excel('data.xlsx')\n",
    "data.columns\n",
    "data['nr_days'] = data['End_date'] - data['Start_date']\n",
    "data['price'] = data['price'] / 100\n",
    "data['coupon'] = data['coupon']/100\n",
    "data['nr_years'] = data['nr_days'].apply(lambda x: int(x / np.timedelta64(1,'D'))) / 360\n",
    "data"
   ]
  },
  {
   "cell_type": "code",
   "execution_count": 3,
   "metadata": {},
   "outputs": [],
   "source": [
    "def ListOfPeriods(n, T, t=0):\n",
    "    \n",
    "    last_coupon = int(np.floor(n*(T-t)))\n",
    "    period_adder = n*(T-t) - last_coupon\n",
    "    \n",
    "    return [(i + period_adder)/n  for i in range(1, last_coupon + 1)]\n",
    "\n",
    "\n",
    "def BondPrice(c, n, T, ys, t=0):\n",
    "    \n",
    "    \"\"\"Returns price, for given YTM\"\"\"  \n",
    "    \n",
    "    LOP = ListOfPeriods(n, T, t=t)\n",
    "    \n",
    "    discounted_coupons = [(c/n) * np.exp(-(i-t)*(ys)) for i in LOP]\n",
    "    FV = np.exp(-(T-t)*(ys))\n",
    "    \n",
    "    B = np.sum(discounted_coupons) + FV\n",
    "    return B\n",
    "\n",
    "\n",
    "def YTM(B, c, n, T, t=0, ys_guess=0.01):\n",
    "    \n",
    "    def ObjectiveFunc(ys):\n",
    "    \n",
    "        return (B - BondPrice(c, n, T, ys, t=t))**2\n",
    "    \n",
    "    bound_ys = [(-1 , 1)]\n",
    "    \n",
    "    solution = minimize(fun= ObjectiveFunc, x0=ys_guess, method='SLSQP', bounds=bound_ys)\n",
    "    \n",
    "    return solution.x[0]"
   ]
  },
  {
   "cell_type": "code",
   "execution_count": 4,
   "metadata": {},
   "outputs": [],
   "source": [
    "data['YTM'] = data.apply(lambda x: YTM(B = x['price'], c=x['coupon'], n= x['Coupons pr year'], T = x['nr_years']), axis=1)"
   ]
  },
  {
   "cell_type": "code",
   "execution_count": 5,
   "metadata": {},
   "outputs": [
    {
     "data": {
      "image/png": "[encoded data removed]",
      "text/plain": [
       "<matplotlib.figure.Figure at 0x1507cfc128>"
      ]
     },
     "metadata": {},
     "output_type": "display_data"
    }
   ],
   "source": [
    "f, ax = plt.subplots(1,1)\n",
    "data.sort_values('End_date', inplace=True)\n",
    "ax.plot(data['End_date'], data['YTM'], label='Yield To Maturity')\n",
    "ax.legend()\n",
    "plt.savefig('YTM.png')"
   ]
  },
  {
   "cell_type": "markdown",
   "metadata": {},
   "source": [
    "# Question 2"
   ]
  },
  {
   "cell_type": "code",
   "execution_count": 6,
   "metadata": {
    "collapsed": true
   },
   "outputs": [],
   "source": [
    "class NielsonSiegelModel(object):\n",
    "    \n",
    "    def __init__(self):\n",
    "        pass\n",
    "    \n",
    "    @staticmethod\n",
    "    def NielsonSiegel(b1, b2, b3, lam1, T):\n",
    "    \n",
    "        return b1 + b2*((1-np.exp(-T/lam1))/(T/lam1)) + b3*(((1-np.exp(-T/lam1))/(T/lam1))-np.exp(-T/lam1))\n",
    "    \n",
    "\n",
    "    def VectorRates(self, b1, b2, b3, lam1, vector_T):\n",
    "    \n",
    "        \"\"\" Returns vector of rates\"\"\"\n",
    "        return [self.NielsonSiegel(b1, b2, b3, lam1, Ti) for Ti in vector_T]\n",
    "    \n",
    "    \n",
    "    def VectorPrices(self, vector_c, vector_n, vector_T, vector_r):\n",
    "\n",
    "        list_of_prices = []\n",
    "        for i in range(len(vector_c)):\n",
    "            c, n, T, ys = vector_c[i], vector_n[i], vector_T[i], vector_r[i]\n",
    "\n",
    "            list_of_prices.append(BondPrice(c, n, T, ys, t=0))\n",
    "\n",
    "        return list_of_prices\n",
    "    \n",
    "    def NSM(self, data, x_guess):\n",
    "\n",
    "        \"\"\"\n",
    "        x_guess: (list)\n",
    "        =======\n",
    "        b1 = x[0]\n",
    "        b2 = x[1]\n",
    "        b3 = x[2]\n",
    "        lam1 = x[3]\n",
    "\n",
    "        =======\n",
    "        returns : vector of x\n",
    "        \"\"\"\n",
    "\n",
    "        vector_c, vector_n, vector_T, vector_p_market = data['coupon'], data['Coupons pr year'], data['nr_years'], data['price']\n",
    "\n",
    "        def ObjectiveFunc(x):\n",
    "            b1 = x[0]\n",
    "            b2 = x[1]\n",
    "            b3 = x[2]\n",
    "            lam1 = x[3]\n",
    "\n",
    "            vector_r = self.VectorRates(b1, b2, b3, lam1, vector_T) # vector_r is endogenous\n",
    "            vector_p_model = self.VectorPrices(vector_c, vector_n, vector_T, vector_r)\n",
    "\n",
    "            res = np.sum(np.array(np.array(vector_p_market) - np.array(vector_p_model))**2)\n",
    "            return res\n",
    "\n",
    "        bound=[(-2,2),(-2,2),(-30,30),(-30,30)]\n",
    "\n",
    "        solution = minimize(fun= ObjectiveFunc, x0=x_guess, method='SLSQP', bounds=bound)\n",
    "\n",
    "        return solution\n"
   ]
  },
  {
   "cell_type": "code",
   "execution_count": 7,
   "metadata": {},
   "outputs": [
    {
     "name": "stdout",
     "output_type": "stream",
     "text": [
      "b1:  0.014907040259 b2:  -0.0123318899496 b3:  -0.0468055972558 lam1: 2.00034667642\n"
     ]
    }
   ],
   "source": [
    "x_guess = [0.01, -0.01, 0 , 2]\n",
    "NSM = NielsonSiegelModel()\n",
    "sol = NSM.NSM(data, x_guess)\n",
    "x_list = list(sol.x)\n",
    "b1, b2, b3, lam1 = x_list[0], x_list[1], x_list[2], x_list[3]\n",
    "print('b1: ',b1,'b2: ',b2,'b3: ',b3, 'lam1:', lam1)"
   ]
  },
  {
   "cell_type": "code",
   "execution_count": 8,
   "metadata": {},
   "outputs": [
    {
     "name": "stdout",
     "output_type": "stream",
     "text": [
      "0.00043023479318226665\n"
     ]
    }
   ],
   "source": [
    "MeanSquaredErrorNelsonSiegel = sol.fun\n",
    "print(MeanSquaredErrorNelsonSiegel)"
   ]
  },
  {
   "cell_type": "code",
   "execution_count": 9,
   "metadata": {},
   "outputs": [
    {
     "name": "stderr",
     "output_type": "stream",
     "text": [
      "/Users/Jeppe/anaconda3/lib/python3.6/site-packages/ipykernel/__main__.py:9: RuntimeWarning: invalid value encountered in double_scalars\n"
     ]
    },
    {
     "data": {
      "image/png": "[encoded data removed]",
      "text/plain": [
       "<matplotlib.figure.Figure at 0x1510319e48>"
      ]
     },
     "metadata": {},
     "output_type": "display_data"
    }
   ],
   "source": [
    "x_= np.linspace(0,60,num=100)\n",
    "y_NSM = [NSM.NielsonSiegel(b1, b2, b3, lam1, i) for i in x_]\n",
    "\n",
    "f, ax = plt.subplots(1,1)\n",
    "ax.plot(x_, y_NSM)\n",
    "ax.axhline(b1, label= 'b1 : The long rate', color='red', ls='--')\n",
    "ax.axhline(b1+b2, label= 'b1 + b2 : The short rate', color='green', ls='--')\n",
    "ax.legend()\n",
    "plt.savefig('Nelson-Siegel.png')"
   ]
  },
  {
   "cell_type": "code",
   "execution_count": 10,
   "metadata": {
    "collapsed": true
   },
   "outputs": [],
   "source": [
    "class SvenssonModel(object):\n",
    "    \n",
    "    def __init__(self):\n",
    "        pass\n",
    "    \n",
    "    @staticmethod\n",
    "    def Svensson(b1, b2, b3, b4, lam1, lam2, T):\n",
    "    \n",
    "        return b1 + b2*((1-np.exp(-T/lam1))/(T/lam1)) + b3*(((1-np.exp(-T/lam1))/(T/lam1))-np.exp(-T/lam1)) + b4*(((1-np.exp(-T/lam2))/(T/lam2))-np.exp(-T/lam2))\n",
    "    \n",
    "\n",
    "    def VectorRates(self, b1, b2, b3, b4, lam1, lam2, vector_T):\n",
    "    \n",
    "        \"\"\" Returns vector of rates\"\"\"\n",
    "        return [self.Svensson(b1, b2, b3, b4, lam1, lam2, Ti) for Ti in vector_T]\n",
    "    \n",
    "    \n",
    "    def VectorPrices(self, vector_c, vector_n, vector_T, vector_r):\n",
    "\n",
    "        list_of_prices = []\n",
    "        for i in range(len(vector_c)):\n",
    "            c, n, T, ys = vector_c[i], vector_n[i], vector_T[i], vector_r[i]\n",
    "\n",
    "            list_of_prices.append(BondPrice(c, n, T, ys, t=0))\n",
    "\n",
    "        return list_of_prices\n",
    "    \n",
    "    def SM(self, data, x_guess):\n",
    "\n",
    "        \"\"\"\n",
    "        x_guess: (list)\n",
    "        =======\n",
    "        b1 = x[0]\n",
    "        b2 = x[1]\n",
    "        b3 = x[2]\n",
    "        b4 = x[3]\n",
    "        lam1 = x[4]\n",
    "        lam2 = x[5]\n",
    "\n",
    "        =======\n",
    "        returns : vector of x\n",
    "        \"\"\"\n",
    "\n",
    "        vector_c, vector_n, vector_T, vector_p_market = data['coupon'], data['Coupons pr year'], data['nr_years'], data['price']\n",
    "\n",
    "        def ObjectiveFunc(x):\n",
    "            b1 = x[0]\n",
    "            b2 = x[1]\n",
    "            b3 = x[2]\n",
    "            b4 = x[3]\n",
    "            lam1 = x[4]\n",
    "            lam2 = x[5]\n",
    "\n",
    "            vector_r = self.VectorRates(b1, b2, b3, b4, lam1, lam2, vector_T) # vector_r is endogenous\n",
    "            vector_p_model = self.VectorPrices(vector_c, vector_n, vector_T, vector_r)\n",
    "\n",
    "            res = np.sum(np.array(np.array(vector_p_market) - np.array(vector_p_model))**2)\n",
    "            return res\n",
    "\n",
    "        bound=[(-2,2),(-2,2),(-2,2),(-2,2), (-10,10),(-10,10)]\n",
    "\n",
    "        solution = minimize(fun= ObjectiveFunc, x0=x_guess, method='SLSQP', bounds=bound)\n",
    "\n",
    "        return solution\n"
   ]
  },
  {
   "cell_type": "code",
   "execution_count": 11,
   "metadata": {},
   "outputs": [
    {
     "name": "stderr",
     "output_type": "stream",
     "text": [
      "/Users/Jeppe/anaconda3/lib/python3.6/site-packages/ipykernel/__main__.py:57: RuntimeWarning: overflow encountered in square\n",
      "/Users/Jeppe/anaconda3/lib/python3.6/site-packages/ipykernel/__main__.py:15: RuntimeWarning: overflow encountered in exp\n",
      "/Users/Jeppe/anaconda3/lib/python3.6/site-packages/ipykernel/__main__.py:16: RuntimeWarning: overflow encountered in exp\n"
     ]
    }
   ],
   "source": [
    "x_guess = [0.014, -0.012, -0.468, 0, 2, 2]\n",
    "SM = SvenssonModel()\n",
    "sol = SM.SM(data, x_guess)\n",
    "x_list = list(sol.x)\n",
    "b1, b2, b3, b4, lam1, lam2 = x_list[0], x_list[1], x_list[2], x_list[3], x_list[4], x_list[5]"
   ]
  },
  {
   "cell_type": "code",
   "execution_count": 12,
   "metadata": {},
   "outputs": [
    {
     "name": "stdout",
     "output_type": "stream",
     "text": [
      "0.0003997039553169198\n"
     ]
    }
   ],
   "source": [
    "MeanSquaredErrorSvensson = sol.fun\n",
    "print(MeanSquaredErrorSvensson)"
   ]
  },
  {
   "cell_type": "code",
   "execution_count": 13,
   "metadata": {},
   "outputs": [
    {
     "name": "stderr",
     "output_type": "stream",
     "text": [
      "/Users/Jeppe/anaconda3/lib/python3.6/site-packages/ipykernel/__main__.py:9: RuntimeWarning: invalid value encountered in double_scalars\n"
     ]
    },
    {
     "data": {
      "image/png": "[encoded data removed]",
      "text/plain": [
       "<matplotlib.figure.Figure at 0x1510335390>"
      ]
     },
     "metadata": {},
     "output_type": "display_data"
    }
   ],
   "source": [
    "x_= np.linspace(0,60,num=100)\n",
    "y_NSM = [SvenssonModel.Svensson(b1, b2, b3, b4, lam1, lam2, i) for i in x_]\n",
    "\n",
    "f, ax = plt.subplots(1,1)\n",
    "ax.plot(x_, y_NSM)\n",
    "ax.axhline(b1, label= 'b1 : The long rate', color='red', ls='--')\n",
    "ax.axhline(b1+b2, label= 'b1 + b2 : The short rate', color='green', ls='--')\n",
    "ax.legend()\n",
    "plt.savefig('Svensson.png')"
   ]
  },
  {
   "cell_type": "code",
   "execution_count": null,
   "metadata": {
    "collapsed": true
   },
   "outputs": [],
   "source": []
  }
 ],
 "metadata": {
  "kernelspec": {
   "display_name": "Python 3",
   "language": "python",
   "name": "python3"
  },
  "language_info": {
   "codemirror_mode": {
    "name": "ipython",
    "version": 3
   },
   "file_extension": ".py",
   "mimetype": "text/x-python",
   "name": "python",
   "nbconvert_exporter": "python",
   "pygments_lexer": "ipython3",
   "version": "3.6.3"
  }
 },
 "nbformat": 4,
 "nbformat_minor": 2
}
